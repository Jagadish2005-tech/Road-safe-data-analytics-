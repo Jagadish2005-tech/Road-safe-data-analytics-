{
 "cells": [
  {
   "cell_type": "code",
   "execution_count": 2,
   "id": "70ccbf04",
   "metadata": {},
   "outputs": [
    {
     "name": "stdout",
     "output_type": "stream",
     "text": [
      "File already exists locally\n"
     ]
    },
    {
     "name": "stderr",
     "output_type": "stream",
     "text": [
      "C:\\Users\\polep\\AppData\\Local\\Temp\\ipykernel_22124\\707649353.py:13: DtypeWarning: Columns (37,38,39,40,41) have mixed types. Specify dtype option on import or set low_memory=False.\n",
      "  df = pd.read_csv(output)\n"
     ]
    },
    {
     "data": {
      "text/html": [
       "<div>\n",
       "<style scoped>\n",
       "    .dataframe tbody tr th:only-of-type {\n",
       "        vertical-align: middle;\n",
       "    }\n",
       "\n",
       "    .dataframe tbody tr th {\n",
       "        vertical-align: top;\n",
       "    }\n",
       "\n",
       "    .dataframe thead th {\n",
       "        text-align: right;\n",
       "    }\n",
       "</style>\n",
       "<table border=\"1\" class=\"dataframe\">\n",
       "  <thead>\n",
       "    <tr style=\"text-align: right;\">\n",
       "      <th></th>\n",
       "      <th>ID</th>\n",
       "      <th>Source</th>\n",
       "      <th>Severity</th>\n",
       "      <th>Start_Time</th>\n",
       "      <th>End_Time</th>\n",
       "      <th>Start_Lat</th>\n",
       "      <th>Start_Lng</th>\n",
       "      <th>End_Lat</th>\n",
       "      <th>End_Lng</th>\n",
       "      <th>Distance(mi)</th>\n",
       "      <th>...</th>\n",
       "      <th>Roundabout</th>\n",
       "      <th>Station</th>\n",
       "      <th>Stop</th>\n",
       "      <th>Traffic_Calming</th>\n",
       "      <th>Traffic_Signal</th>\n",
       "      <th>Turning_Loop</th>\n",
       "      <th>Sunrise_Sunset</th>\n",
       "      <th>Civil_Twilight</th>\n",
       "      <th>Nautical_Twilight</th>\n",
       "      <th>Astronomical_Twilight</th>\n",
       "    </tr>\n",
       "  </thead>\n",
       "  <tbody>\n",
       "    <tr>\n",
       "      <th>0</th>\n",
       "      <td>A-1</td>\n",
       "      <td>Source2</td>\n",
       "      <td>3</td>\n",
       "      <td>2016-02-08 05:46:00</td>\n",
       "      <td>2016-02-08 11:00:00</td>\n",
       "      <td>39.865147</td>\n",
       "      <td>-84.058723</td>\n",
       "      <td>NaN</td>\n",
       "      <td>NaN</td>\n",
       "      <td>0.01</td>\n",
       "      <td>...</td>\n",
       "      <td>False</td>\n",
       "      <td>False</td>\n",
       "      <td>False</td>\n",
       "      <td>False</td>\n",
       "      <td>False</td>\n",
       "      <td>False</td>\n",
       "      <td>Night</td>\n",
       "      <td>Night</td>\n",
       "      <td>Night</td>\n",
       "      <td>Night</td>\n",
       "    </tr>\n",
       "    <tr>\n",
       "      <th>1</th>\n",
       "      <td>A-2</td>\n",
       "      <td>Source2</td>\n",
       "      <td>2</td>\n",
       "      <td>2016-02-08 06:07:59</td>\n",
       "      <td>2016-02-08 06:37:59</td>\n",
       "      <td>39.928059</td>\n",
       "      <td>-82.831184</td>\n",
       "      <td>NaN</td>\n",
       "      <td>NaN</td>\n",
       "      <td>0.01</td>\n",
       "      <td>...</td>\n",
       "      <td>False</td>\n",
       "      <td>False</td>\n",
       "      <td>False</td>\n",
       "      <td>False</td>\n",
       "      <td>False</td>\n",
       "      <td>False</td>\n",
       "      <td>Night</td>\n",
       "      <td>Night</td>\n",
       "      <td>Night</td>\n",
       "      <td>Day</td>\n",
       "    </tr>\n",
       "    <tr>\n",
       "      <th>2</th>\n",
       "      <td>A-3</td>\n",
       "      <td>Source2</td>\n",
       "      <td>2</td>\n",
       "      <td>2016-02-08 06:49:27</td>\n",
       "      <td>2016-02-08 07:19:27</td>\n",
       "      <td>39.063148</td>\n",
       "      <td>-84.032608</td>\n",
       "      <td>NaN</td>\n",
       "      <td>NaN</td>\n",
       "      <td>0.01</td>\n",
       "      <td>...</td>\n",
       "      <td>False</td>\n",
       "      <td>False</td>\n",
       "      <td>False</td>\n",
       "      <td>False</td>\n",
       "      <td>True</td>\n",
       "      <td>False</td>\n",
       "      <td>Night</td>\n",
       "      <td>Night</td>\n",
       "      <td>Day</td>\n",
       "      <td>Day</td>\n",
       "    </tr>\n",
       "    <tr>\n",
       "      <th>3</th>\n",
       "      <td>A-4</td>\n",
       "      <td>Source2</td>\n",
       "      <td>3</td>\n",
       "      <td>2016-02-08 07:23:34</td>\n",
       "      <td>2016-02-08 07:53:34</td>\n",
       "      <td>39.747753</td>\n",
       "      <td>-84.205582</td>\n",
       "      <td>NaN</td>\n",
       "      <td>NaN</td>\n",
       "      <td>0.01</td>\n",
       "      <td>...</td>\n",
       "      <td>False</td>\n",
       "      <td>False</td>\n",
       "      <td>False</td>\n",
       "      <td>False</td>\n",
       "      <td>False</td>\n",
       "      <td>False</td>\n",
       "      <td>Night</td>\n",
       "      <td>Day</td>\n",
       "      <td>Day</td>\n",
       "      <td>Day</td>\n",
       "    </tr>\n",
       "    <tr>\n",
       "      <th>4</th>\n",
       "      <td>A-5</td>\n",
       "      <td>Source2</td>\n",
       "      <td>2</td>\n",
       "      <td>2016-02-08 07:39:07</td>\n",
       "      <td>2016-02-08 08:09:07</td>\n",
       "      <td>39.627781</td>\n",
       "      <td>-84.188354</td>\n",
       "      <td>NaN</td>\n",
       "      <td>NaN</td>\n",
       "      <td>0.01</td>\n",
       "      <td>...</td>\n",
       "      <td>False</td>\n",
       "      <td>False</td>\n",
       "      <td>False</td>\n",
       "      <td>False</td>\n",
       "      <td>True</td>\n",
       "      <td>False</td>\n",
       "      <td>Day</td>\n",
       "      <td>Day</td>\n",
       "      <td>Day</td>\n",
       "      <td>Day</td>\n",
       "    </tr>\n",
       "  </tbody>\n",
       "</table>\n",
       "<p>5 rows × 46 columns</p>\n",
       "</div>"
      ],
      "text/plain": [
       "    ID   Source  Severity           Start_Time             End_Time  \\\n",
       "0  A-1  Source2         3  2016-02-08 05:46:00  2016-02-08 11:00:00   \n",
       "1  A-2  Source2         2  2016-02-08 06:07:59  2016-02-08 06:37:59   \n",
       "2  A-3  Source2         2  2016-02-08 06:49:27  2016-02-08 07:19:27   \n",
       "3  A-4  Source2         3  2016-02-08 07:23:34  2016-02-08 07:53:34   \n",
       "4  A-5  Source2         2  2016-02-08 07:39:07  2016-02-08 08:09:07   \n",
       "\n",
       "   Start_Lat  Start_Lng  End_Lat  End_Lng  Distance(mi)  ... Roundabout  \\\n",
       "0  39.865147 -84.058723      NaN      NaN          0.01  ...      False   \n",
       "1  39.928059 -82.831184      NaN      NaN          0.01  ...      False   \n",
       "2  39.063148 -84.032608      NaN      NaN          0.01  ...      False   \n",
       "3  39.747753 -84.205582      NaN      NaN          0.01  ...      False   \n",
       "4  39.627781 -84.188354      NaN      NaN          0.01  ...      False   \n",
       "\n",
       "  Station   Stop Traffic_Calming Traffic_Signal Turning_Loop Sunrise_Sunset  \\\n",
       "0   False  False           False          False        False          Night   \n",
       "1   False  False           False          False        False          Night   \n",
       "2   False  False           False           True        False          Night   \n",
       "3   False  False           False          False        False          Night   \n",
       "4   False  False           False           True        False            Day   \n",
       "\n",
       "  Civil_Twilight Nautical_Twilight Astronomical_Twilight  \n",
       "0          Night             Night                 Night  \n",
       "1          Night             Night                   Day  \n",
       "2          Night               Day                   Day  \n",
       "3            Day               Day                   Day  \n",
       "4            Day               Day                   Day  \n",
       "\n",
       "[5 rows x 46 columns]"
      ]
     },
     "execution_count": 2,
     "metadata": {},
     "output_type": "execute_result"
    }
   ],
   "source": [
    "import gdown\n",
    "import pandas as pd\n",
    "import os\n",
    "file_id = \"1sQJs53Qk3v35YnX40UfqWrSWQIcatykS\"\n",
    "url = f\"https://drive.google.com/uc?id={file_id}\"\n",
    "output = \"US_Accidents.csv\"\n",
    "if not os.path.exists(output):\n",
    "    gdown.download(url, output, quiet=False)\n",
    "    print(\"Downloaded from Google Drive\")\n",
    "else:\n",
    "    print(\"File already exists locally\")\n",
    "    \n",
    "df = pd.read_csv(output)\n",
    "df.head()"
   ]
  },
  {
   "cell_type": "code",
   "execution_count": null,
   "id": "7c10ba61",
   "metadata": {},
   "outputs": [],
   "source": [
    "1.What is the distribution of accident severity levels?"
   ]
  },
  {
   "cell_type": "code",
   "execution_count": 16,
   "id": "e286b3db",
   "metadata": {},
   "outputs": [
    {
     "name": "stdout",
     "output_type": "stream",
     "text": [
      "\n",
      "Accident Severity Distribution:\n",
      "    Count  Percentage\n",
      "1   38254        5.36\n",
      "2  415285       58.22\n",
      "3  258245       36.20\n",
      "4    1527        0.21\n"
     ]
    }
   ],
   "source": [
    "import pandas as pd\n",
    "severity_counts = df['Severity'].value_counts().sort_index() #Calculate counts and percentages of severity levels\n",
    "severity_percentages = round((severity_counts / severity_counts.sum()) * 100, 2)\n",
    "severity_distribution = pd.DataFrame({  # Combine into a DataFrame for clarity\n",
    "    \"Count\": severity_counts,\n",
    "    \"Percentage\": severity_percentages\n",
    "})\n",
    "print(\"\\nAccident Severity Distribution:\")\n",
    "print(severity_distribution)"
   ]
  },
  {
   "cell_type": "code",
   "execution_count": null,
   "id": "02836fdd",
   "metadata": {},
   "outputs": [],
   "source": [
    "2.How is the accident frequency distributed by hour of the day?"
   ]
  },
  {
   "cell_type": "code",
   "execution_count": 15,
   "id": "f0287622",
   "metadata": {},
   "outputs": [
    {
     "name": "stdout",
     "output_type": "stream",
     "text": [
      "\n",
      "Accident Frequency by Hour of the Day:\n",
      "    Count  Percentage\n",
      "0    5763        0.81\n",
      "1    4514        0.63\n",
      "2    5229        0.73\n",
      "3    4616        0.65\n",
      "4   15189        2.13\n",
      "5   19469        2.73\n",
      "6   36617        5.13\n",
      "7   60961        8.55\n",
      "8   67152        9.41\n",
      "9   44480        6.24\n",
      "10  41309        5.79\n",
      "11  40435        5.67\n",
      "12  33523        4.70\n",
      "13  31613        4.43\n",
      "14  34431        4.83\n",
      "15  35602        4.99\n",
      "16  45864        6.43\n",
      "17  48282        6.77\n",
      "18  40961        5.74\n",
      "19  33072        4.64\n",
      "20  26829        3.76\n",
      "21  17773        2.49\n",
      "22  13537        1.90\n",
      "23   6090        0.85\n"
     ]
    }
   ],
   "source": [
    "import pandas as pd\n",
    "df['Start_Time'] = pd.to_datetime(df['Start_Time'], errors='coerce') # Ensure datetime column is parsed correctly\n",
    "df['Hour'] = df['Start_Time'].dt.hour # Extract hour of day\n",
    "hourly_counts = df['Hour'].value_counts().sort_index() # Accident frequency by hour\n",
    "hourly_percentages = round((hourly_counts / hourly_counts.sum()) * 100, 2)\n",
    "hourly_distribution = pd.DataFrame({  # Combine into DataFrame\n",
    "    \"Count\": hourly_counts,\n",
    "    \"Percentage\": hourly_percentages\n",
    "})\n",
    "print(\"\\nAccident Frequency by Hour of the Day:\")\n",
    "print(hourly_distribution)"
   ]
  },
  {
   "cell_type": "code",
   "execution_count": null,
   "id": "609988e4",
   "metadata": {},
   "outputs": [],
   "source": [
    "3.Which days of the week have the highest number of accidents?"
   ]
  },
  {
   "cell_type": "code",
   "execution_count": 19,
   "id": "123bc959",
   "metadata": {},
   "outputs": [
    {
     "name": "stdout",
     "output_type": "stream",
     "text": [
      "\n",
      "Accident Frequency by Day of the Week:\n",
      "            Count  Percentage\n",
      "Thursday   130157       18.25\n",
      "Wednesday  129657       18.18\n",
      "Tuesday    127950       17.94\n",
      "Friday     126352       17.71\n",
      "Monday     119323       16.73\n",
      "Saturday    42259        5.92\n",
      "Sunday      37613        5.27\n"
     ]
    }
   ],
   "source": [
    "import pandas as pd\n",
    "df['Start_Time'] = pd.to_datetime(df['Start_Time'], errors='coerce') # Ensure datetime column is parsed correctly\n",
    "df['DayOfWeek'] = df['Start_Time'].dt.day_name() # Extract day of week (0=Monday, 6=Sunday)\n",
    "day_counts = df['DayOfWeek'].value_counts()     # Accident frequency by day of the week\n",
    "day_percentages = round((day_counts / day_counts.sum()) * 100, 2)\n",
    "day_distribution = pd.DataFrame({  # Combine into DataFrame\n",
    "    \"Count\": day_counts, \n",
    "    \"Percentage\": day_percentages\n",
    "})\n",
    "print(\"\\nAccident Frequency by Day of the Week:\")\n",
    "print(day_distribution)\n"
   ]
  },
  {
   "cell_type": "code",
   "execution_count": null,
   "id": "07302808",
   "metadata": {},
   "outputs": [],
   "source": [
    "4.What are the most common weather conditions during accidents?"
   ]
  },
  {
   "cell_type": "code",
   "execution_count": 22,
   "id": "3a88cd3b",
   "metadata": {},
   "outputs": [
    {
     "name": "stdout",
     "output_type": "stream",
     "text": [
      "\n",
      "Top 10 Weather Conditions During Accidents:\n",
      "                   Count  Percentage\n",
      "Clear             208905       29.29\n",
      "Fair              101760       14.27\n",
      "Mostly Cloudy      96605       13.54\n",
      "Overcast           80265       11.25\n",
      "Partly Cloudy      67707        9.49\n",
      "Scattered Clouds   47595        6.67\n",
      "Light Rain         28492        3.99\n",
      "Cloudy             27458        3.85\n",
      "Haze                6864        0.96\n",
      "Rain                6132        0.86\n"
     ]
    }
   ],
   "source": [
    "weather_col = \"Weather_Condition\"                                     # Column storing weather info\n",
    "weather_counts = df[weather_col].value_counts().head(10)              # Count top 10 weather conditions\n",
    "weather_percentages = round((weather_counts / df.shape[0]) * 100, 2)  # Calculate percentages (of all accidents)\n",
    "weather_distribution = pd.DataFrame({                                # Combine into DataFrame\n",
    "    \"Count\": weather_counts, \n",
    "    \"Percentage\": weather_percentages\n",
    "})\n",
    "print(\"\\nTop 10 Weather Conditions During Accidents:\")                # Print title\n",
    "print(weather_distribution)                                           # Display table\n"
   ]
  },
  {
   "cell_type": "code",
   "execution_count": null,
   "id": "6934ba4b",
   "metadata": {},
   "outputs": [],
   "source": [
    "5.How to identify columns with missing data and their missing percentage?"
   ]
  },
  {
   "cell_type": "code",
   "execution_count": 28,
   "id": "0dcd7ae4",
   "metadata": {},
   "outputs": [
    {
     "name": "stdout",
     "output_type": "stream",
     "text": [
      "                       Missing Count  Missing Percentage\n",
      "End_Lat                       713311          100.000000\n",
      "End_Lng                       713311          100.000000\n",
      "Street                          1614            0.226269\n",
      "City                              22            0.003084\n",
      "Zipcode                           76            0.010655\n",
      "Timezone                         225            0.031543\n",
      "Airport_Code                     677            0.094910\n",
      "Weather_Timestamp               6534            0.916010\n",
      "Temperature(F)                 10907            1.529067\n",
      "Wind_Chill(F)                 454629           63.735033\n",
      "Humidity(%)                    11895            1.667576\n",
      "Pressure(in)                    8590            1.204243\n",
      "Visibility(mi)                 14305            2.005437\n",
      "Wind_Direction                  8163            1.144382\n",
      "Wind_Speed(mph)                94991           13.316912\n",
      "Precipitation(in)             465433           65.249660\n",
      "Weather_Condition              13560            1.900994\n",
      "Stop                               1            0.000140\n",
      "Traffic_Calming                    1            0.000140\n",
      "Traffic_Signal                     1            0.000140\n",
      "Turning_Loop                       1            0.000140\n",
      "Sunrise_Sunset                  1437            0.201455\n",
      "Civil_Twilight                  1437            0.201455\n",
      "Nautical_Twilight               1437            0.201455\n",
      "Astronomical_Twilight           1437            0.201455\n"
     ]
    }
   ],
   "source": [
    "import pandas as pd  # Import pandas library\n",
    "\n",
    "missing_counts = df.isnull().sum()  # Count of missing values per column\n",
    "\n",
    "missing_percentage = (missing_counts / len(df)) * 100  # Calculate percentage of missing values per column\n",
    "\n",
    "missing_data = pd.DataFrame({       # Combine counts and percentage into a DataFrame\n",
    "    \"Missing Count\": missing_counts,  # Number of missing values\n",
    "    \"Missing Percentage\": missing_percentage  # Percentage of missing values\n",
    "})\n",
    "\n",
    "missing_data = missing_data[missing_data[\"Missing Count\"] > 0]  # Keep only columns with missing data\n",
    "\n",
    "print(missing_data)  # Display the result\n"
   ]
  },
  {
   "cell_type": "code",
   "execution_count": null,
   "id": "d1ed88e8",
   "metadata": {},
   "outputs": [],
   "source": [
    "6.How to impute missing numerical values with median?"
   ]
  },
  {
   "cell_type": "code",
   "execution_count": 38,
   "id": "b373e6b5",
   "metadata": {},
   "outputs": [
    {
     "name": "stdout",
     "output_type": "stream",
     "text": [
      "Severity                  0\n",
      "Start_Lat                 0\n",
      "Start_Lng                 0\n",
      "End_Lat              713311\n",
      "End_Lng              713311\n",
      "Distance(mi)              0\n",
      "Temperature(F)            0\n",
      "Wind_Chill(F)             0\n",
      "Humidity(%)               0\n",
      "Pressure(in)              0\n",
      "Visibility(mi)            0\n",
      "Wind_Speed(mph)           0\n",
      "Precipitation(in)         0\n",
      "Hour                      0\n",
      "hour                      0\n",
      "dtype: int64\n"
     ]
    }
   ],
   "source": [
    "import pandas as pd  # Import pandas library\n",
    "num_cols = df.select_dtypes(include=['float64', 'int64']).columns  # Detect all numeric columns\n",
    "# Impute missing values in all numerical columns with median\n",
    "for col in num_cols:  # Loop through each numerical column\n",
    "    df[col].fillna(df[col].median(), inplace=True)  # Replace NaNs with median\n",
    "print(df[num_cols].isnull().sum())  # Verify there are no more missing values"
   ]
  },
  {
   "cell_type": "code",
   "execution_count": null,
   "id": "9ce7bae6",
   "metadata": {},
   "outputs": [],
   "source": [
    "7.How to impute missing categorical values with the mode?"
   ]
  },
  {
   "cell_type": "code",
   "execution_count": 40,
   "id": "053625fd",
   "metadata": {},
   "outputs": [
    {
     "name": "stdout",
     "output_type": "stream",
     "text": [
      "ID                       0\n",
      "Source                   0\n",
      "End_Time                 0\n",
      "Description              0\n",
      "Street                   0\n",
      "City                     0\n",
      "County                   0\n",
      "State                    0\n",
      "Zipcode                  0\n",
      "Country                  0\n",
      "Timezone                 0\n",
      "Airport_Code             0\n",
      "Weather_Timestamp        0\n",
      "Wind_Direction           0\n",
      "Weather_Condition        0\n",
      "Station                  0\n",
      "Stop                     0\n",
      "Traffic_Calming          0\n",
      "Traffic_Signal           0\n",
      "Turning_Loop             0\n",
      "Sunrise_Sunset           0\n",
      "Civil_Twilight           0\n",
      "Nautical_Twilight        0\n",
      "Astronomical_Twilight    0\n",
      "DayOfWeek                0\n",
      "day_of_week              0\n",
      "dtype: int64\n"
     ]
    }
   ],
   "source": [
    "import pandas as pd  # Import pandas library\n",
    "# Select only categorical columns\n",
    "cat_cols = df.select_dtypes(include=['object']).columns  # Detect all object-type columns (categorical)\n",
    "# Impute missing values in all categorical columns with mode\n",
    "for col in cat_cols:  # Loop through each categorical column\n",
    "    mode_value = df[col].mode()[0]  # Find the most frequent value (mode)\n",
    "    df[col].fillna(mode_value, inplace=True)  # Replace NaNs with mode\n",
    "# Verify that there are no more missing values in categorical columns\n",
    "print(df[cat_cols].isnull().sum())  # Should show 0 for all categorical columns\n"
   ]
  },
  {
   "cell_type": "code",
   "execution_count": null,
   "id": "07276fad",
   "metadata": {},
   "outputs": [],
   "source": [
    "8.How to label encode a categorical column?"
   ]
  },
  {
   "cell_type": "code",
   "execution_count": 48,
   "id": "35eb6e95",
   "metadata": {},
   "outputs": [
    {
     "name": "stdout",
     "output_type": "stream",
     "text": [
      "0    42\n",
      "1    42\n",
      "2    61\n",
      "3    58\n",
      "4    58\n",
      "Name: Weather_Condition, dtype: int64\n"
     ]
    }
   ],
   "source": [
    "import pandas as pd  # Import pandas library\n",
    "from sklearn.preprocessing import LabelEncoder  # Import LabelEncoder\n",
    "# Suppose we want to label encode the column 'Weather_Condition'\n",
    "le = LabelEncoder()  # Create a LabelEncoder object\n",
    "df['Weather_Condition'] = le.fit_transform(df['Weather_Condition'])  # Encode categories as numbers\n",
    "print(df['Weather_Condition'].head())  # Display the first few rows to check encoding"
   ]
  },
  {
   "cell_type": "code",
   "execution_count": null,
   "id": "1257c6bc",
   "metadata": {},
   "outputs": [],
   "source": [
    "9.How to one-hot encode a categorical column?"
   ]
  },
  {
   "cell_type": "code",
   "execution_count": 53,
   "id": "45be5ef4",
   "metadata": {},
   "outputs": [
    {
     "name": "stdout",
     "output_type": "stream",
     "text": [
      "   Weather_Condition_Clear  Weather_Condition_Fog  Weather_Condition_Rain\n",
      "0                      1.0                    0.0                     0.0\n",
      "1                      0.0                    0.0                     1.0\n",
      "2                      1.0                    0.0                     0.0\n",
      "3                      0.0                    1.0                     0.0\n",
      "4                      0.0                    0.0                     1.0\n"
     ]
    }
   ],
   "source": [
    "from sklearn.preprocessing import OneHotEncoder\n",
    "encoder = OneHotEncoder(sparse_output=False)\n",
    "encoded = encoder.fit_transform(df[['Weather_Condition']])\n",
    "encoded_df = pd.DataFrame(encoded, columns=encoder.get_feature_names_out(['Weather_Condition']))\n",
    "df_final = pd.concat([df, encoded_df], axis=1).drop(columns=['Weather_Condition'])\n",
    "print(df_final)"
   ]
  }
 ],
 "metadata": {
  "kernelspec": {
   "display_name": "Python 3 (ipykernel)",
   "language": "python",
   "name": "python3"
  },
  "language_info": {
   "codemirror_mode": {
    "name": "ipython",
    "version": 3
   },
   "file_extension": ".py",
   "mimetype": "text/x-python",
   "name": "python",
   "nbconvert_exporter": "python",
   "pygments_lexer": "ipython3",
   "version": "3.10.9"
  }
 },
 "nbformat": 4,
 "nbformat_minor": 5
}
