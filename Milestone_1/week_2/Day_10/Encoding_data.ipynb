{
 "cells": [
  {
   "cell_type": "code",
   "execution_count": null,
   "id": "da823a49",
   "metadata": {},
   "outputs": [],
   "source": [
    "Encode Categorical Features"
   ]
  },
  {
   "cell_type": "code",
   "execution_count": null,
   "id": "69fbcc20",
   "metadata": {},
   "outputs": [],
   "source": [
    "Types of Encoding\n",
    "\n",
    "1. Label Encoding (good for ordinal categories)"
   ]
  },
  {
   "cell_type": "code",
   "execution_count": 2,
   "id": "bceb4606",
   "metadata": {},
   "outputs": [
    {
     "name": "stderr",
     "output_type": "stream",
     "text": [
      "C:\\Users\\polep\\AppData\\Local\\Temp\\ipykernel_6508\\1002797861.py:4: DtypeWarning: Columns (33) have mixed types. Specify dtype option on import or set low_memory=False.\n",
      "  df = pd.read_csv(\"US_Accidents_Cleaned.csv\")\n"
     ]
    }
   ],
   "source": [
    "import pandas as pd\n",
    "\n",
    "# Load cleaned dataset\n",
    "df = pd.read_csv(\"US_Accidents_Cleaned.csv\")\n"
   ]
  },
  {
   "cell_type": "code",
   "execution_count": 3,
   "id": "99feca8d",
   "metadata": {},
   "outputs": [
    {
     "name": "stdout",
     "output_type": "stream",
     "text": [
      "  Weather_Condition  Weather_Condition_encoded\n",
      "0        Light Rain                         42\n",
      "1        Light Rain                         42\n",
      "2          Overcast                         61\n",
      "3     Mostly Cloudy                         58\n",
      "4     Mostly Cloudy                         58\n"
     ]
    }
   ],
   "source": [
    "from sklearn.preprocessing import LabelEncoder\n",
    "\n",
    "# Example\n",
    "le = LabelEncoder()\n",
    "df['Weather_Condition_encoded'] = le.fit_transform(df['Weather_Condition'])\n",
    "print(df[['Weather_Condition', 'Weather_Condition_encoded']].head())\n"
   ]
  },
  {
   "cell_type": "code",
   "execution_count": null,
   "id": "32a0f393",
   "metadata": {},
   "outputs": [],
   "source": [
    "2. One-Hot Encoding"
   ]
  },
  {
   "cell_type": "code",
   "execution_count": 7,
   "id": "d67b6e68",
   "metadata": {},
   "outputs": [
    {
     "name": "stdout",
     "output_type": "stream",
     "text": [
      "   ID  Weather_Condition_Rain  Weather_Condition_Snow\n",
      "0   1                       0                       0\n",
      "1   2                       1                       0\n",
      "2   3                       0                       1\n",
      "3   4                       0                       0\n",
      "4   5                       1                       0\n"
     ]
    }
   ],
   "source": [
    "import pandas as pd\n",
    "\n",
    "# Example dataset\n",
    "data = {\n",
    "    'ID': [1, 2, 3, 4, 5],\n",
    "    'Weather_Condition': ['Clear', 'Rain', 'Snow', 'Clear', 'Rain']\n",
    "}\n",
    "\n",
    "df = pd.DataFrame(data)\n",
    "\n",
    "# One-hot encode\n",
    "df_encoded = pd.get_dummies(df, columns=['Weather_Condition'], drop_first=True)\n",
    "\n",
    "print(df_encoded)\n"
   ]
  },
  {
   "cell_type": "code",
   "execution_count": 9,
   "id": "e48f70d2",
   "metadata": {},
   "outputs": [
    {
     "name": "stdout",
     "output_type": "stream",
     "text": [
      "Synthetic Accident Dataset:\n",
      "        State Weather_Condition  Severity  Accident_Count\n",
      "0  California             Clear         2             120\n",
      "1       Texas              Rain         3              85\n",
      "2    New York              Snow         4              60\n",
      "3       Texas              Rain         1              90\n",
      "4  California             Clear         2             150\n",
      "5     Florida            Cloudy         3              75\n",
      "6     Florida             Clear         2             130\n",
      "7    New York              Snow         4              55\n",
      "8       Texas              Rain         1             100\n"
     ]
    }
   ],
   "source": [
    "import pandas as pd\n",
    "\n",
    "# Synthetic dataset with categorical and numeric columns\n",
    "data = {\n",
    "    'State': ['California', 'Texas', 'New York', 'Texas', 'California', 'Florida', 'Florida', 'New York', 'Texas'],\n",
    "    'Weather_Condition': ['Clear', 'Rain', 'Snow', 'Rain', 'Clear', 'Cloudy', 'Clear', 'Snow', 'Rain'],\n",
    "    'Severity': [2, 3, 4, 1, 2, 3, 2, 4, 1],\n",
    "    'Accident_Count': [120, 85, 60, 90, 150, 75, 130, 55, 100]\n",
    "}\n",
    "\n",
    "df2 = pd.DataFrame(data)\n",
    "\n",
    "print(\"Synthetic Accident Dataset:\")\n",
    "print(df2)"
   ]
  },
  {
   "cell_type": "code",
   "execution_count": null,
   "id": "3af1bcf3",
   "metadata": {},
   "outputs": [],
   "source": [
    "Remove Duplicates"
   ]
  },
  {
   "cell_type": "code",
   "execution_count": 10,
   "id": "c073e6c3",
   "metadata": {},
   "outputs": [
    {
     "name": "stdout",
     "output_type": "stream",
     "text": [
      "\n",
      "After removing duplicates:\n",
      "   ID Weather_Condition\n",
      "0   1             Clear\n",
      "1   2              Rain\n",
      "2   3              Snow\n",
      "3   4             Clear\n",
      "4   5              Rain\n"
     ]
    }
   ],
   "source": [
    "# Remove duplicate rows\n",
    "df_no_duplicates = df.drop_duplicates()\n",
    "print(\"\\nAfter removing duplicates:\")\n",
    "print(df_no_duplicates)"
   ]
  },
  {
   "cell_type": "code",
   "execution_count": 12,
   "id": "72081ea1",
   "metadata": {},
   "outputs": [
    {
     "name": "stdout",
     "output_type": "stream",
     "text": [
      "Original dataset with label encoding:\n",
      "          City  City_Encoded\n",
      "0     New York             4\n",
      "1  Los Angeles             3\n",
      "2      Chicago             1\n",
      "3      Houston             2\n",
      "4       Boston             0\n"
     ]
    }
   ],
   "source": [
    "import pandas as pd\n",
    "\n",
    "# Example dataset\n",
    "data = {\n",
    "    'City': ['New York', 'Los Angeles', 'Chicago', 'Houston', 'Boston', 'Chicago']\n",
    "}\n",
    "df = pd.DataFrame(data)\n",
    "\n",
    "# Drop duplicates (optional)\n",
    "df_no_duplicates = df.drop_duplicates().reset_index(drop=True)\n",
    "\n",
    "# Label Encoding using pandas categorical dtype\n",
    "df_no_duplicates['City_Encoded'] = df_no_duplicates['City'].astype('category').cat.codes\n",
    "\n",
    "print(\"Original dataset with label encoding:\")\n",
    "print(df_no_duplicates)\n"
   ]
  },
  {
   "cell_type": "code",
   "execution_count": 13,
   "id": "adca4438",
   "metadata": {},
   "outputs": [
    {
     "name": "stdout",
     "output_type": "stream",
     "text": [
      "Label Encoded 'City' column:\n",
      "          City  City_Encoded\n",
      "0     New York             4\n",
      "1  Los Angeles             3\n",
      "2      Chicago             1\n",
      "3      Houston             2\n",
      "4       Boston             0\n"
     ]
    }
   ],
   "source": [
    "import pandas as pd\n",
    "\n",
    "# Sample dataset\n",
    "data = {\n",
    "    'City': ['New York', 'Los Angeles', 'Chicago', 'Houston', 'Boston', 'Chicago']\n",
    "}\n",
    "\n",
    "df = pd.DataFrame(data)\n",
    "\n",
    "# Remove duplicates (optional)\n",
    "df_no_duplicates = df.drop_duplicates().reset_index(drop=True)\n",
    "\n",
    "# Label Encoding using pandas categorical dtype\n",
    "df_no_duplicates['City_Encoded'] = df_no_duplicates['City'].astype('category').cat.codes\n",
    "\n",
    "# Display the original and encoded columns\n",
    "print(\"Label Encoded 'City' column:\")\n",
    "print(df_no_duplicates[['City', 'City_Encoded']])\n"
   ]
  },
  {
   "cell_type": "code",
   "execution_count": 14,
   "id": "8ee08581",
   "metadata": {},
   "outputs": [
    {
     "name": "stdout",
     "output_type": "stream",
     "text": [
      "One-Hot Encoded 'Weather' column:\n",
      "          City  Weather_Cloudy  Weather_Rainy  Weather_Sunny\n",
      "0     New York               0              0              1\n",
      "1  Los Angeles               0              1              0\n",
      "2      Chicago               0              0              1\n",
      "3      Houston               1              0              0\n",
      "4       Boston               0              0              1\n",
      "5      Chicago               0              1              0\n"
     ]
    }
   ],
   "source": [
    "import pandas as pd\n",
    "\n",
    "# Sample dataset\n",
    "data = {\n",
    "    'City': ['New York', 'Los Angeles', 'Chicago', 'Houston', 'Boston', 'Chicago'],\n",
    "    'Weather': ['Sunny', 'Rainy', 'Sunny', 'Cloudy', 'Sunny', 'Rainy']\n",
    "}\n",
    "\n",
    "df = pd.DataFrame(data)\n",
    "\n",
    "# Remove duplicates (optional)\n",
    "df_no_duplicates = df.drop_duplicates().reset_index(drop=True)\n",
    "\n",
    "# One-Hot Encoding using pandas get_dummies\n",
    "df_onehot = pd.get_dummies(df_no_duplicates, columns=['Weather'], drop_first=False)\n",
    "\n",
    "# Display the One-Hot encoded dataframe\n",
    "print(\"One-Hot Encoded 'Weather' column:\")\n",
    "print(df_onehot)\n"
   ]
  }
 ],
 "metadata": {
  "kernelspec": {
   "display_name": "Python 3 (ipykernel)",
   "language": "python",
   "name": "python3"
  },
  "language_info": {
   "codemirror_mode": {
    "name": "ipython",
    "version": 3
   },
   "file_extension": ".py",
   "mimetype": "text/x-python",
   "name": "python",
   "nbconvert_exporter": "python",
   "pygments_lexer": "ipython3",
   "version": "3.10.9"
  }
 },
 "nbformat": 4,
 "nbformat_minor": 5
}
