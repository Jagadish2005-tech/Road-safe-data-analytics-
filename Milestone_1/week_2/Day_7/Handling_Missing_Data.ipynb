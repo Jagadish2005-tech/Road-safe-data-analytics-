{
 "cells": [
  {
   "cell_type": "code",
   "execution_count": null,
   "id": "8afcd654",
   "metadata": {},
   "outputs": [],
   "source": [
    "1. Handling Missing Values"
   ]
  },
  {
   "cell_type": "code",
   "execution_count": 4,
   "id": "a27d6486",
   "metadata": {},
   "outputs": [
    {
     "name": "stdout",
     "output_type": "stream",
     "text": [
      "File already exists locally\n"
     ]
    },
    {
     "name": "stderr",
     "output_type": "stream",
     "text": [
      "C:\\Users\\polep\\AppData\\Local\\Temp\\ipykernel_16148\\1160782198.py:13: DtypeWarning: Columns (37,38,39,40,41) have mixed types. Specify dtype option on import or set low_memory=False.\n",
      "  df = pd.read_csv(output)\n"
     ]
    }
   ],
   "source": [
    "import gdown\n",
    "import pandas as pd\n",
    "import os\n",
    "file_id = \"1sQJs53Qk3v35YnX40UfqWrSWQIcatykS\"\n",
    "url = f\"https://drive.google.com/uc?id={file_id}\"\n",
    "output = \"US_Accidents.csv\"\n",
    "if not os.path.exists(output):\n",
    "    gdown.download(url, output, quiet=False)\n",
    "    print(\"Downloaded from Google Drive\")\n",
    "else:\n",
    "    print(\"File already exists locally\")\n",
    "    \n",
    "df = pd.read_csv(output)"
   ]
  },
  {
   "cell_type": "code",
   "execution_count": 5,
   "id": "dca47317",
   "metadata": {},
   "outputs": [
    {
     "name": "stdout",
     "output_type": "stream",
     "text": [
      "Missing values per column:\n",
      " End_Lat                  713311\n",
      "End_Lng                  713311\n",
      "Precipitation(in)        465433\n",
      "Wind_Chill(F)            454629\n",
      "Wind_Speed(mph)           94991\n",
      "Visibility(mi)            14305\n",
      "Weather_Condition         13560\n",
      "Humidity(%)               11895\n",
      "Temperature(F)            10907\n",
      "Pressure(in)               8590\n",
      "Wind_Direction             8163\n",
      "Weather_Timestamp          6534\n",
      "Street                     1614\n",
      "Nautical_Twilight          1437\n",
      "Civil_Twilight             1437\n",
      "Sunrise_Sunset             1437\n",
      "Astronomical_Twilight      1437\n",
      "Airport_Code                677\n",
      "Timezone                    225\n",
      "Zipcode                      76\n",
      "City                         22\n",
      "Turning_Loop                  1\n",
      "Traffic_Signal                1\n",
      "Traffic_Calming               1\n",
      "Stop                          1\n",
      "Junction                      0\n",
      "Severity                      0\n",
      "Start_Time                    0\n",
      "End_Time                      0\n",
      "Station                       0\n",
      "Roundabout                    0\n",
      "Railway                       0\n",
      "No_Exit                       0\n",
      "Crossing                      0\n",
      "Give_Way                      0\n",
      "Bump                          0\n",
      "Amenity                       0\n",
      "Start_Lat                     0\n",
      "Start_Lng                     0\n",
      "Distance(mi)                  0\n",
      "Description                   0\n",
      "Source                        0\n",
      "County                        0\n",
      "State                         0\n",
      "Country                       0\n",
      "ID                            0\n",
      "dtype: int64\n",
      "\n",
      "Percentage missing:\n",
      " End_Lat                  100.000000\n",
      "End_Lng                  100.000000\n",
      "Precipitation(in)         65.249660\n",
      "Wind_Chill(F)             63.735033\n",
      "Wind_Speed(mph)           13.316912\n",
      "Visibility(mi)             2.005437\n",
      "Weather_Condition          1.900994\n",
      "Humidity(%)                1.667576\n",
      "Temperature(F)             1.529067\n",
      "Pressure(in)               1.204243\n",
      "Wind_Direction             1.144382\n",
      "Weather_Timestamp          0.916010\n",
      "Street                     0.226269\n",
      "Nautical_Twilight          0.201455\n",
      "Civil_Twilight             0.201455\n",
      "Sunrise_Sunset             0.201455\n",
      "Astronomical_Twilight      0.201455\n",
      "Airport_Code               0.094910\n",
      "Timezone                   0.031543\n",
      "Zipcode                    0.010655\n",
      "City                       0.003084\n",
      "Turning_Loop               0.000140\n",
      "Traffic_Signal             0.000140\n",
      "Traffic_Calming            0.000140\n",
      "Stop                       0.000140\n",
      "Junction                   0.000000\n",
      "Severity                   0.000000\n",
      "Start_Time                 0.000000\n",
      "End_Time                   0.000000\n",
      "Station                    0.000000\n",
      "Roundabout                 0.000000\n",
      "Railway                    0.000000\n",
      "No_Exit                    0.000000\n",
      "Crossing                   0.000000\n",
      "Give_Way                   0.000000\n",
      "Bump                       0.000000\n",
      "Amenity                    0.000000\n",
      "Start_Lat                  0.000000\n",
      "Start_Lng                  0.000000\n",
      "Distance(mi)               0.000000\n",
      "Description                0.000000\n",
      "Source                     0.000000\n",
      "County                     0.000000\n",
      "State                      0.000000\n",
      "Country                    0.000000\n",
      "ID                         0.000000\n",
      "dtype: float64\n"
     ]
    }
   ],
   "source": [
    "# Check total missing values in each column\n",
    "missing_values = df.isnull().sum().sort_values(ascending=False)\n",
    "print(\"Missing values per column:\\n\", missing_values)\n",
    "\n",
    "# Percentage of missing values\n",
    "missing_percent = (df.isnull().sum() / len(df)) * 100\n",
    "print(\"\\nPercentage missing:\\n\", missing_percent.sort_values(ascending=False))\n"
   ]
  },
  {
   "cell_type": "code",
   "execution_count": null,
   "id": "e15f8340",
   "metadata": {},
   "outputs": [],
   "source": [
    "2. Dropping and Imputing Columns/Rows with Missing Data"
   ]
  },
  {
   "cell_type": "code",
   "execution_count": 6,
   "id": "a39f0b0f",
   "metadata": {},
   "outputs": [
    {
     "name": "stdout",
     "output_type": "stream",
     "text": [
      "Columns after dropping high-missing ones:\n",
      " Index(['ID', 'Source', 'Severity', 'Start_Time', 'End_Time', 'Start_Lat',\n",
      "       'Start_Lng', 'Distance(mi)', 'Description', 'Street', 'City', 'County',\n",
      "       'State', 'Zipcode', 'Country', 'Timezone', 'Airport_Code',\n",
      "       'Weather_Timestamp', 'Temperature(F)', 'Wind_Chill(F)', 'Humidity(%)',\n",
      "       'Pressure(in)', 'Visibility(mi)', 'Wind_Direction', 'Wind_Speed(mph)',\n",
      "       'Precipitation(in)', 'Weather_Condition', 'Amenity', 'Bump', 'Crossing',\n",
      "       'Give_Way', 'Junction', 'No_Exit', 'Railway', 'Roundabout', 'Station',\n",
      "       'Stop', 'Traffic_Calming', 'Traffic_Signal', 'Turning_Loop',\n",
      "       'Sunrise_Sunset', 'Civil_Twilight', 'Nautical_Twilight',\n",
      "       'Astronomical_Twilight'],\n",
      "      dtype='object')\n"
     ]
    }
   ],
   "source": [
    "# Define threshold: drop columns with >30% missing\n",
    "threshold = 0.3 * len(df)\n",
    "df = df.dropna(thresh=threshold, axis=1)\n",
    "\n",
    "print(\"Columns after dropping high-missing ones:\\n\", df.columns)\n"
   ]
  },
  {
   "cell_type": "code",
   "execution_count": 7,
   "id": "55292745",
   "metadata": {},
   "outputs": [
    {
     "name": "stdout",
     "output_type": "stream",
     "text": [
      "Shape after dropping critical rows: (713311, 44)\n"
     ]
    }
   ],
   "source": [
    "# Drop rows where Start_Time, Start_Lat, or Start_Lng is missing\n",
    "df = df.dropna(subset=[\"Start_Time\", \"Start_Lat\", \"Start_Lng\"])\n",
    "\n",
    "print(\"Shape after dropping critical rows:\", df.shape)\n"
   ]
  },
  {
   "cell_type": "code",
   "execution_count": 8,
   "id": "75269131",
   "metadata": {},
   "outputs": [],
   "source": [
    "numerical_cols = [\"Temperature(F)\", \"Humidity(%)\", \"Pressure(in)\", \"Visibility(mi)\", \"Wind_Speed(mph)\"]\n",
    "\n",
    "for col in numerical_cols:                                            # impute numerical columns\n",
    "    df[col].fillna(df[col].median(), inplace=True)\n"
   ]
  },
  {
   "cell_type": "code",
   "execution_count": 9,
   "id": "afe215c4",
   "metadata": {},
   "outputs": [],
   "source": [
    "categorical_cols = [\"Weather_Condition\", \"Wind_Direction\", \"Sunrise_Sunset\"]   # impute categorical values\n",
    "\n",
    "for col in categorical_cols:\n",
    "    df[col].fillna(df[col].mode()[0], inplace=True)  # fill with most common value\n"
   ]
  },
  {
   "cell_type": "code",
   "execution_count": 10,
   "id": "f778a93b",
   "metadata": {},
   "outputs": [
    {
     "name": "stdout",
     "output_type": "stream",
     "text": [
      "Missing values after dropping/imputing:\n",
      " ID                            0\n",
      "Source                        0\n",
      "Severity                      0\n",
      "Start_Time                    0\n",
      "End_Time                      0\n",
      "Start_Lat                     0\n",
      "Start_Lng                     0\n",
      "Distance(mi)                  0\n",
      "Description                   0\n",
      "Street                     1614\n",
      "City                         22\n",
      "County                        0\n",
      "State                         0\n",
      "Zipcode                      76\n",
      "Country                       0\n",
      "Timezone                    225\n",
      "Airport_Code                677\n",
      "Weather_Timestamp          6534\n",
      "Temperature(F)                0\n",
      "Wind_Chill(F)            454629\n",
      "Humidity(%)                   0\n",
      "Pressure(in)                  0\n",
      "Visibility(mi)                0\n",
      "Wind_Direction                0\n",
      "Wind_Speed(mph)               0\n",
      "Precipitation(in)        465433\n",
      "Weather_Condition             0\n",
      "Amenity                       0\n",
      "Bump                          0\n",
      "Crossing                      0\n",
      "Give_Way                      0\n",
      "Junction                      0\n",
      "No_Exit                       0\n",
      "Railway                       0\n",
      "Roundabout                    0\n",
      "Station                       0\n",
      "Stop                          1\n",
      "Traffic_Calming               1\n",
      "Traffic_Signal                1\n",
      "Turning_Loop                  1\n",
      "Sunrise_Sunset                0\n",
      "Civil_Twilight             1437\n",
      "Nautical_Twilight          1437\n",
      "Astronomical_Twilight      1437\n",
      "dtype: int64\n"
     ]
    }
   ],
   "source": [
    "print(\"Missing values after dropping/imputing:\\n\", df.isnull().sum())\n"
   ]
  },
  {
   "cell_type": "code",
   "execution_count": 11,
   "id": "6faa513d",
   "metadata": {},
   "outputs": [
    {
     "name": "stdout",
     "output_type": "stream",
     "text": [
      "Missing values after final imputation:\n",
      " ID                       0\n",
      "Source                   0\n",
      "Severity                 0\n",
      "Start_Time               0\n",
      "End_Time                 0\n",
      "Start_Lat                0\n",
      "Start_Lng                0\n",
      "Distance(mi)             0\n",
      "Description              0\n",
      "Street                   0\n",
      "City                     0\n",
      "County                   0\n",
      "State                    0\n",
      "Zipcode                  0\n",
      "Country                  0\n",
      "Timezone                 0\n",
      "Airport_Code             0\n",
      "Temperature(F)           0\n",
      "Humidity(%)              0\n",
      "Pressure(in)             0\n",
      "Visibility(mi)           0\n",
      "Wind_Direction           0\n",
      "Wind_Speed(mph)          0\n",
      "Weather_Condition        0\n",
      "Amenity                  0\n",
      "Bump                     0\n",
      "Crossing                 0\n",
      "Give_Way                 0\n",
      "Junction                 0\n",
      "No_Exit                  0\n",
      "Railway                  0\n",
      "Roundabout               0\n",
      "Station                  0\n",
      "Stop                     0\n",
      "Traffic_Calming          0\n",
      "Traffic_Signal           0\n",
      "Turning_Loop             0\n",
      "Sunrise_Sunset           0\n",
      "Civil_Twilight           0\n",
      "Nautical_Twilight        0\n",
      "Astronomical_Twilight    0\n",
      "dtype: int64\n"
     ]
    }
   ],
   "source": [
    "# Drop columns with too many missing values\n",
    "df.drop(columns=[\"Wind_Chill(F)\", \"Precipitation(in)\", \"Weather_Timestamp\"], inplace=True)\n",
    "\n",
    "# Fill categorical columns with mode or \"Unknown\"\n",
    "df['Street'].fillna(\"Unknown\", inplace=True)\n",
    "df['City'].fillna(df['City'].mode()[0], inplace=True)\n",
    "df['Zipcode'].fillna(df['Zipcode'].mode()[0], inplace=True)\n",
    "df['Timezone'].fillna(df['Timezone'].mode()[0], inplace=True)\n",
    "df['Airport_Code'].fillna(\"Unknown\", inplace=True)\n",
    "df['Stop'].fillna(df['Stop'].mode()[0], inplace=True)\n",
    "df['Traffic_Calming'].fillna(df['Traffic_Calming'].mode()[0], inplace=True)\n",
    "df['Traffic_Signal'].fillna(df['Traffic_Signal'].mode()[0], inplace=True)\n",
    "df['Turning_Loop'].fillna(df['Turning_Loop'].mode()[0], inplace=True)\n",
    "\n",
    "# Fill twilight columns with mode\n",
    "twilight_cols = [\"Civil_Twilight\", \"Nautical_Twilight\", \"Astronomical_Twilight\"]\n",
    "for col in twilight_cols:\n",
    "    df[col].fillna(df[col].mode()[0], inplace=True)\n",
    "\n",
    "# Verify\n",
    "print(\"Missing values after final imputation:\\n\", df.isnull().sum())\n"
   ]
  },
  {
   "cell_type": "code",
   "execution_count": 12,
   "id": "b9b6cb67",
   "metadata": {},
   "outputs": [
    {
     "name": "stdout",
     "output_type": "stream",
     "text": [
      "Original DataFrame:\n",
      "      A    B    C\n",
      "0  1.0  NaN  1.0\n",
      "1  NaN  NaN  2.0\n",
      "2  3.0  NaN  3.0\n",
      "3  4.0  4.0  NaN\n",
      "4  5.0  5.0  5.0\n",
      "\n",
      "After dropping rows with any missing values:\n",
      "      A    B    C\n",
      "4  5.0  5.0  5.0\n",
      "\n",
      "After dropping columns with any missing values:\n",
      " Empty DataFrame\n",
      "Columns: []\n",
      "Index: [0, 1, 2, 3, 4]\n",
      "\n",
      "After dropping columns with >50% missing values:\n",
      "      A    C\n",
      "0  1.0  1.0\n",
      "1  NaN  2.0\n",
      "2  3.0  3.0\n",
      "3  4.0  NaN\n",
      "4  5.0  5.0\n"
     ]
    }
   ],
   "source": [
    "import pandas as pd\n",
    "import numpy as np    # just taken an example to show dropping of colums with 50 % of volumes\n",
    "\n",
    "# Example DataFrame\n",
    "data = {\n",
    "    'A': [1, np.nan, 3, 4, 5],\n",
    "    'B': [np.nan, np.nan, np.nan, 4, 5],\n",
    "    'C': [1, 2, 3, np.nan, 5]\n",
    "}\n",
    "df = pd.DataFrame(data)\n",
    "print(\"Original DataFrame:\\n\", df)\n",
    "\n",
    "# Drop rows with ANY missing values\n",
    "df_drop_rows = df.dropna(axis=0)\n",
    "print(\"\\nAfter dropping rows with any missing values:\\n\", df_drop_rows)\n",
    "\n",
    "# Drop columns with ANY missing values\n",
    "df_drop_cols = df.dropna(axis=1)\n",
    "print(\"\\nAfter dropping columns with any missing values:\\n\", df_drop_cols)\n",
    "\n",
    "# Drop columns with more than a threshold (e.g., 50%) missing values\n",
    "threshold = 0.5 * len(df)\n",
    "df_drop_threshold = df.dropna(axis=1, thresh=threshold)\n",
    "print(\"\\nAfter dropping columns with >50% missing values:\\n\", df_drop_threshold)"
   ]
  },
  {
   "cell_type": "code",
   "execution_count": null,
   "id": "56d5f44a",
   "metadata": {},
   "outputs": [],
   "source": [
    "Imputing (Filling) Missing Values"
   ]
  },
  {
   "cell_type": "code",
   "execution_count": null,
   "id": "93e67900",
   "metadata": {},
   "outputs": [],
   "source": [
    "a) Fill with a Constant (e.g., 0, \"unknown\")"
   ]
  },
  {
   "cell_type": "code",
   "execution_count": 13,
   "id": "134baacb",
   "metadata": {},
   "outputs": [
    {
     "name": "stdout",
     "output_type": "stream",
     "text": [
      "\n",
      "Fill missing values with 0:\n",
      "      A    B    C\n",
      "0  1.0  0.0  1.0\n",
      "1  0.0  0.0  2.0\n",
      "2  3.0  0.0  3.0\n",
      "3  4.0  4.0  0.0\n",
      "4  5.0  5.0  5.0\n"
     ]
    }
   ],
   "source": [
    "df_constant = df.fillna(0)\n",
    "print(\"\\nFill missing values with 0:\\n\", df_constant)"
   ]
  },
  {
   "cell_type": "code",
   "execution_count": null,
   "id": "b997e434",
   "metadata": {},
   "outputs": [],
   "source": [
    "b) Fill with Mean / Median / Mode"
   ]
  },
  {
   "cell_type": "code",
   "execution_count": 14,
   "id": "f287cb19",
   "metadata": {},
   "outputs": [
    {
     "name": "stdout",
     "output_type": "stream",
     "text": [
      "\n",
      "Fill numerical columns with mean:\n",
      "       A    B     C\n",
      "0  1.00  4.5  1.00\n",
      "1  3.25  4.5  2.00\n",
      "2  3.00  4.5  3.00\n",
      "3  4.00  4.0  2.75\n",
      "4  5.00  5.0  5.00\n",
      "\n",
      "Fill numerical columns with median:\n",
      "      A    B    C\n",
      "0  1.0  4.5  1.0\n",
      "1  3.5  4.5  2.0\n",
      "2  3.0  4.5  3.0\n",
      "3  4.0  4.0  2.5\n",
      "4  5.0  5.0  5.0\n",
      "\n",
      "Fill categorical columns with mode:\n",
      "      A    B    C\n",
      "0  1.0  NaN  1.0\n",
      "1  NaN  NaN  2.0\n",
      "2  3.0  NaN  3.0\n",
      "3  4.0  4.0  NaN\n",
      "4  5.0  5.0  5.0\n"
     ]
    }
   ],
   "source": [
    "# Fill numerical columns with mean\n",
    "df_mean = df.fillna(df.mean(numeric_only=True))\n",
    "print(\"\\nFill numerical columns with mean:\\n\", df_mean)\n",
    "\n",
    "# Fill numerical columns with median\n",
    "df_median = df.fillna(df.median(numeric_only=True))\n",
    "print(\"\\nFill numerical columns with median:\\n\", df_median)\n",
    "\n",
    "# Fill categorical columns with mode\n",
    "df_mode = df.apply(lambda x: x.fillna(x.mode()[0]) if x.dtype=='O' else x)\n",
    "print(\"\\nFill categorical columns with mode:\\n\", df_mode)"
   ]
  },
  {
   "cell_type": "code",
   "execution_count": null,
   "id": "a0ba0968",
   "metadata": {},
   "outputs": [],
   "source": [
    "c) Forward Fill / Backward Fill (for time series or panel data)"
   ]
  },
  {
   "cell_type": "code",
   "execution_count": 15,
   "id": "cb7e7251",
   "metadata": {},
   "outputs": [
    {
     "name": "stdout",
     "output_type": "stream",
     "text": [
      "\n",
      "Forward fill missing values:\n",
      "      A    B    C\n",
      "0  1.0  NaN  1.0\n",
      "1  1.0  NaN  2.0\n",
      "2  3.0  NaN  3.0\n",
      "3  4.0  4.0  3.0\n",
      "4  5.0  5.0  5.0\n",
      "\n",
      "Backward fill missing values:\n",
      "      A    B    C\n",
      "0  1.0  4.0  1.0\n",
      "1  3.0  4.0  2.0\n",
      "2  3.0  4.0  3.0\n",
      "3  4.0  4.0  5.0\n",
      "4  5.0  5.0  5.0\n"
     ]
    }
   ],
   "source": [
    "df_ffill = df.fillna(method='ffill')\n",
    "print(\"\\nForward fill missing values:\\n\", df_ffill)\n",
    "\n",
    "df_bfill = df.fillna(method='bfill')\n",
    "print(\"\\nBackward fill missing values:\\n\", df_bfill)"
   ]
  },
  {
   "cell_type": "code",
   "execution_count": null,
   "id": "732d4b54",
   "metadata": {},
   "outputs": [],
   "source": [
    "d) Advanced: KNN Imputer / Iterative Imputer (for large projects)"
   ]
  },
  {
   "cell_type": "code",
   "execution_count": 16,
   "id": "07c48dda",
   "metadata": {},
   "outputs": [
    {
     "name": "stdout",
     "output_type": "stream",
     "text": [
      "\n",
      "KNN Imputed DataFrame:\n",
      "      A    B    C\n",
      "0  1.0  4.5  1.0\n",
      "1  2.0  4.5  2.0\n",
      "2  3.0  4.5  3.0\n",
      "3  4.0  4.0  4.0\n",
      "4  5.0  5.0  5.0\n"
     ]
    }
   ],
   "source": [
    "from sklearn.impute import KNNImputer\n",
    "\n",
    "knn_imputer = KNNImputer(n_neighbors=2)\n",
    "df_knn = pd.DataFrame(knn_imputer.fit_transform(df), columns=df.columns)\n",
    "print(\"\\nKNN Imputed DataFrame:\\n\", df_knn)"
   ]
  },
  {
   "cell_type": "code",
   "execution_count": null,
   "id": "acf09dcd",
   "metadata": {},
   "outputs": [],
   "source": [
    "3. Choosing the Best Approach\n",
    "Guidelines:\n",
    "\n",
    "Drop columns if lots of information is missing (>30–50%), but consider domain importance.\n",
    "\n",
    "Impute when missingness is moderate, using domain knowledge to choose the technique.\n",
    "\n",
    "Use mean/median for numeric, mode for categorical, and advanced methods for critical variables."
   ]
  },
  {
   "cell_type": "code",
   "execution_count": 17,
   "id": "cafc1ad7",
   "metadata": {},
   "outputs": [
    {
     "name": "stdout",
     "output_type": "stream",
     "text": [
      "Original Dummy Dataset with Missing Values:\n",
      "    Age   Salary         City Purchased\n",
      "0  25.0  50000.0     New York       Yes\n",
      "1   NaN  60000.0  Los Angeles        No\n",
      "2  30.0      NaN     New York       NaN\n",
      "3  22.0  52000.0          NaN        No\n",
      "4  40.0  58000.0      Chicago       Yes\n",
      "5   NaN  62000.0      Chicago       Yes\n",
      "6  28.0      NaN  Los Angeles        No\n",
      "\n",
      "Dummy Dataset After Imputation:\n",
      "    Age   Salary         City Purchased\n",
      "0  25.0  50000.0     New York       Yes\n",
      "1  29.0  60000.0  Los Angeles        No\n",
      "2  30.0  58000.0     New York        No\n",
      "3  22.0  52000.0      Chicago        No\n",
      "4  40.0  58000.0      Chicago       Yes\n",
      "5  29.0  62000.0      Chicago       Yes\n",
      "6  28.0  58000.0  Los Angeles        No\n"
     ]
    }
   ],
   "source": [
    "import pandas as pd\n",
    "import numpy as np\n",
    "from sklearn.impute import KNNImputer\n",
    "\n",
    "# Create a dummy dataset with missing values\n",
    "data = {\n",
    "    'Age': [25, np.nan, 30, 22, 40, np.nan, 28],\n",
    "    'Salary': [50000, 60000, np.nan, 52000, 58000, 62000, np.nan],\n",
    "    'City': ['New York', 'Los Angeles', 'New York', np.nan, 'Chicago', 'Chicago', 'Los Angeles'],\n",
    "    'Purchased': ['Yes', 'No', np.nan, 'No', 'Yes', 'Yes', 'No']\n",
    "}\n",
    "\n",
    "df_dummy = pd.DataFrame(data)\n",
    "print(\"Original Dummy Dataset with Missing Values:\")\n",
    "print(df_dummy)\n",
    "\n",
    "# Assignment Tasks (interns should attempt):\n",
    "# 1. Drop columns or rows with excessive missing values.\n",
    "# 2. Impute missing numerical columns (Age, Salary) with mean or median.\n",
    "# 3. Impute missing categorical columns (City, Purchased) with mode.\n",
    "# 4. Optionally, apply KNN imputation for numerical columns.\n",
    "\n",
    "# Example imputation with mean and mode:\n",
    "df_imputed = df_dummy.copy()\n",
    "df_imputed['Age'] = df_imputed['Age'].fillna(df_imputed['Age'].mean())\n",
    "df_imputed['Salary'] = df_imputed['Salary'].fillna(df_imputed['Salary'].median())\n",
    "df_imputed['City'] = df_imputed['City'].fillna(df_imputed['City'].mode()[0])\n",
    "df_imputed['Purchased'] = df_imputed['Purchased'].fillna(df_imputed['Purchased'].mode()[0])\n",
    "\n",
    "print(\"\\nDummy Dataset After Imputation:\")\n",
    "print(df_imputed)"
   ]
  }
 ],
 "metadata": {
  "kernelspec": {
   "display_name": "Python 3 (ipykernel)",
   "language": "python",
   "name": "python3"
  },
  "language_info": {
   "codemirror_mode": {
    "name": "ipython",
    "version": 3
   },
   "file_extension": ".py",
   "mimetype": "text/x-python",
   "name": "python",
   "nbconvert_exporter": "python",
   "pygments_lexer": "ipython3",
   "version": "3.10.9"
  }
 },
 "nbformat": 4,
 "nbformat_minor": 5
}
