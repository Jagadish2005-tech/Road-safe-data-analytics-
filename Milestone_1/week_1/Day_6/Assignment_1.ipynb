{
 "cells": [
  {
   "cell_type": "code",
   "execution_count": null,
   "id": "b8112c85",
   "metadata": {},
   "outputs": [],
   "source": [
    "import gdown\n",
    "import pandas as pd\n",
    "import os\n",
    "file_id = \"1sQJs53Qk3v35YnX40UfqWrSWQIcatykS\"\n",
    "url = f\"https://drive.google.com/uc?id={file_id}\"\n",
    "output = \"US_Accidents.csv\"\n",
    "if not os.path.exists(output):\n",
    "    gdown.download(url, output, quiet=False)\n",
    "    print(\"Downloaded from Google Drive\")\n",
    "else:\n",
    "    print(\"File already exists locally\")\n",
    "    \n",
    "df = pd.read_csv(output)\n",
    "print(\"Shape:\", df.shape)\n",
    "df.head()\n"
   ]
  },
  {
   "cell_type": "code",
   "execution_count": null,
   "id": "b82c14da",
   "metadata": {},
   "outputs": [],
   "source": [
    "1.How many unique values are there in categorical columns like City, State, and Weather_Condition? Which category is the most frequent in each?"
   ]
  },
  {
   "cell_type": "code",
   "execution_count": 4,
   "id": "b77fe200",
   "metadata": {},
   "outputs": [
    {
     "data": {
      "text/html": [
       "<div>\n",
       "<style scoped>\n",
       "    .dataframe tbody tr th:only-of-type {\n",
       "        vertical-align: middle;\n",
       "    }\n",
       "\n",
       "    .dataframe tbody tr th {\n",
       "        vertical-align: top;\n",
       "    }\n",
       "\n",
       "    .dataframe thead th {\n",
       "        text-align: right;\n",
       "    }\n",
       "</style>\n",
       "<table border=\"1\" class=\"dataframe\">\n",
       "  <thead>\n",
       "    <tr style=\"text-align: right;\">\n",
       "      <th></th>\n",
       "      <th>Unique Values</th>\n",
       "      <th>Most Frequent Category</th>\n",
       "      <th>Frequency</th>\n",
       "    </tr>\n",
       "  </thead>\n",
       "  <tbody>\n",
       "    <tr>\n",
       "      <th>City</th>\n",
       "      <td>7631</td>\n",
       "      <td>Houston</td>\n",
       "      <td>32476</td>\n",
       "    </tr>\n",
       "    <tr>\n",
       "      <th>State</th>\n",
       "      <td>47</td>\n",
       "      <td>CA</td>\n",
       "      <td>206889</td>\n",
       "    </tr>\n",
       "    <tr>\n",
       "      <th>Weather_Condition</th>\n",
       "      <td>99</td>\n",
       "      <td>Clear</td>\n",
       "      <td>208905</td>\n",
       "    </tr>\n",
       "  </tbody>\n",
       "</table>\n",
       "</div>"
      ],
      "text/plain": [
       "                  Unique Values Most Frequent Category Frequency\n",
       "City                       7631                Houston     32476\n",
       "State                        47                     CA    206889\n",
       "Weather_Condition            99                  Clear    208905"
      ]
     },
     "execution_count": 4,
     "metadata": {},
     "output_type": "execute_result"
    }
   ],
   "source": [
    "import pandas as pd\n",
    "categorical_cols = [\"City\", \"State\", \"Weather_Condition\"]\n",
    "results = {}\n",
    "for col in categorical_cols:\n",
    "    unique_vals = df[col].nunique()\n",
    "    top_category = df[col].value_counts().idxmax()\n",
    "    top_freq = df[col].value_counts().max()\n",
    "    \n",
    "    results[col] = {\n",
    "        \"Unique Values\": unique_vals,\n",
    "        \"Most Frequent Category\": top_category,\n",
    "        \"Frequency\": top_freq\n",
    "    }\n",
    "pd.DataFrame(results).T\n"
   ]
  },
  {
   "cell_type": "code",
   "execution_count": null,
   "id": "ffc5fa62",
   "metadata": {},
   "outputs": [],
   "source": [
    "2.Calculate the percentage of missing values in each column and list columns with more than 5% missing data."
   ]
  },
  {
   "cell_type": "code",
   "execution_count": 10,
   "id": "54d9a2b3",
   "metadata": {},
   "outputs": [
    {
     "name": "stdout",
     "output_type": "stream",
     "text": [
      "Columns with more than 5% missing data:\n",
      "\n",
      "End_Lat              100.000000\n",
      "End_Lng              100.000000\n",
      "Precipitation(in)     65.249660\n",
      "Wind_Chill(F)         63.735033\n",
      "Wind_Speed(mph)       13.316912\n",
      "dtype: float64\n"
     ]
    }
   ],
   "source": [
    "import pandas as pd\n",
    "missing_percent = (df.isnull().sum() / len(df)) * 100\n",
    "missing_over_5 = missing_percent[missing_percent > 5].sort_values(ascending=False) # filtering above 5 percent data\n",
    "print(\"Columns with more than 5% missing data:\\n\")\n",
    "print(missing_over_5)\n"
   ]
  },
  {
   "cell_type": "code",
   "execution_count": null,
   "id": "f7bdead2",
   "metadata": {},
   "outputs": [],
   "source": [
    "3.Convert Start_Time and End_Time columns to datetime objects. Find the range (earliest and latest) of accident start times in the dataset."
   ]
  },
  {
   "cell_type": "code",
   "execution_count": 14,
   "id": "0f51c3bb",
   "metadata": {},
   "outputs": [
    {
     "name": "stdout",
     "output_type": "stream",
     "text": [
      "Earliest accident start time: 2016-02-08 05:46:00\n",
      "Latest accident start time: 2022-09-08 17:56:22\n"
     ]
    }
   ],
   "source": [
    "import pandas as pd\n",
    "df['Start_Time'] = pd.to_datetime(df['Start_Time'])\n",
    "df['End_Time'] = pd.to_datetime(df['End_Time'])\n",
    "start_min = df['Start_Time'].min()\n",
    "start_max = df['Start_Time'].max()\n",
    "print(f\"Earliest accident start time: {start_min}\")  # min start time\n",
    "print(f\"Latest accident start time: {start_max}\")     # latest accident time\n"
   ]
  },
  {
   "cell_type": "code",
   "execution_count": null,
   "id": "a54e28ae",
   "metadata": {},
   "outputs": [],
   "source": [
    "4.Identify any duplicate records in the dataset based on all columns. How many duplicates exist and how will you handle them?\n"
   ]
  },
  {
   "cell_type": "code",
   "execution_count": 19,
   "id": "d6176d03",
   "metadata": {},
   "outputs": [
    {
     "name": "stdout",
     "output_type": "stream",
     "text": [
      "Number of duplicate records: 0\n",
      "\n",
      "No duplicate records found.\n"
     ]
    }
   ],
   "source": [
    "import pandas as pd\n",
    "duplicates = df.duplicated().sum()\n",
    "print(\"Number of duplicate records:\", duplicates)\n",
    "if duplicates > 0:\n",
    "    print(\"\\nSample duplicate records:\")\n",
    "    display(df[df.duplicated()].head())\n",
    "else:\n",
    "    print(\"\\nNo duplicate records found.\")\n",
    "df = df.drop_duplicates()"
   ]
  },
  {
   "cell_type": "code",
   "execution_count": null,
   "id": "2e0ef126",
   "metadata": {},
   "outputs": [],
   "source": [
    "5.Explore the distribution of accident severity (Severity column). What percentage of accidents belong to each severity level? Visualize this distribution with a pie chart."
   ]
  },
  {
   "cell_type": "code",
   "execution_count": 24,
   "id": "005e5b8b",
   "metadata": {},
   "outputs": [
    {
     "name": "stdout",
     "output_type": "stream",
     "text": [
      "Percentage of accidents by severity level:\n",
      "2    58.219346\n",
      "3    36.203704\n",
      "1     5.362878\n",
      "4     0.214072\n",
      "Name: Severity, dtype: float64\n"
     ]
    },
    {
     "data": {
      "image/png": "[encoded data removed]",
      "text/plain": [
       "<Figure size 800x600 with 1 Axes>"
      ]
     },
     "metadata": {},
     "output_type": "display_data"
    }
   ],
   "source": [
    "import pandas as pd\n",
    "import matplotlib.pyplot as plt\n",
    "severity_counts = df['Severity'].value_counts(normalize=True) * 100  # severity\n",
    "print(\"Percentage of accidents by severity level:\")  # percentage of severity\n",
    "print(severity_counts)\n",
    "plt.figure(figsize=(8, 6))  # pie chart plot\n",
    "severity_counts.plot(kind='pie', autopct='%1.1f%%', startangle=140)\n",
    "plt.title('Accident Severity Distribution')\n",
    "plt.ylabel('')  \n",
    "plt.show()\n"
   ]
  }
 ],
 "metadata": {
  "kernelspec": {
   "display_name": "Python 3 (ipykernel)",
   "language": "python",
   "name": "python3"
  },
  "language_info": {
   "codemirror_mode": {
    "name": "ipython",
    "version": 3
   },
   "file_extension": ".py",
   "mimetype": "text/x-python",
   "name": "python",
   "nbconvert_exporter": "python",
   "pygments_lexer": "ipython3",
   "version": "3.10.9"
  }
 },
 "nbformat": 4,
 "nbformat_minor": 5
}
