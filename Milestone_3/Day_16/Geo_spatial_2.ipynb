{
 "cells": [
  {
   "cell_type": "code",
   "execution_count": null,
   "id": "8b730203",
   "metadata": {},
   "outputs": [],
   "source": [
    "Geo Spatial analysis 2"
   ]
  },
  {
   "cell_type": "code",
   "execution_count": 7,
   "id": "9edd4db4",
   "metadata": {},
   "outputs": [
    {
     "name": "stderr",
     "output_type": "stream",
     "text": [
      "C:\\Users\\polep\\AppData\\Local\\Temp\\ipykernel_14652\\2814253055.py:4: DtypeWarning: Columns (33) have mixed types. Specify dtype option on import or set low_memory=False.\n",
      "  df = pd.read_csv(\"US_Accidents_Cleaned.csv\")\n"
     ]
    }
   ],
   "source": [
    "import pandas as pd\n",
    "\n",
    "# Load cleaned dataset\n",
    "df = pd.read_csv(\"US_Accidents_Cleaned.csv\")"
   ]
  },
  {
   "cell_type": "code",
   "execution_count": 5,
   "id": "65f5b76e",
   "metadata": {},
   "outputs": [],
   "source": [
    "import pandas as pd\n",
    "import plotly.express as px\n",
    "import streamlit as st"
   ]
  },
  {
   "cell_type": "code",
   "execution_count": 9,
   "id": "8c0e6c07",
   "metadata": {},
   "outputs": [],
   "source": [
    "def plot_accidents_sampled(df, location_col='State', sample_size=300000):\n",
    "    counts = df[location_col].value_counts().head(5)\n",
    "    top5_locations = counts.index.tolist()\n",
    "    df['is_top5'] = df[location_col].isin(top5_locations)\n",
    "\n",
    "    # Sample data to reduce size\n",
    "    if len(df) > sample_size:\n",
    "        df_sample = df.sample(sample_size, random_state=42)\n",
    "    else:\n",
    "        df_sample = df\n",
    "\n",
    "    fig = px.scatter(\n",
    "        data_frame=df_sample,\n",
    "        x='Start_Lng',\n",
    "        y='Start_Lat',\n",
    "        color='is_top5',\n",
    "        labels={'Start_Lng': 'Longitude', 'Start_Lat': 'Latitude', 'is_top5': 'Top 5 Accident-Prone'},\n",
    "        title=f\"Accident Scatter Plot Highlighting Top 5 {location_col}s\",\n",
    "        opacity=0.6,\n",
    "        hover_data=[location_col]\n",
    "    )\n",
    "    st.plotly_chart(fig)\n"
   ]
  },
  {
   "cell_type": "code",
   "execution_count": null,
   "id": "03edabd1",
   "metadata": {},
   "outputs": [],
   "source": [
    "Hypothesis Testing"
   ]
  },
  {
   "cell_type": "code",
   "execution_count": null,
   "id": "845511d6",
   "metadata": {},
   "outputs": [],
   "source": [
    "1.What time of day has the most accidents?"
   ]
  },
  {
   "cell_type": "code",
   "execution_count": null,
   "id": "62156be1",
   "metadata": {},
   "outputs": [],
   "source": [
    "# Ensure Start_Time is datetime\n",
    "df['Start_Time'] = pd.to_datetime(df['Start_Time'], errors='coerce')\n",
    "\n",
    "# Extract hour from datetime\n",
    "df['Hour'] = df['Start_Time'].dt.hour\n",
    "hourly_counts = df['Hour'].value_counts().sort_index()\n",
    "import plotly.express as px\n",
    "\n",
    "fig = px.bar(\n",
    "    x=hourly_counts.index,\n",
    "    y=hourly_counts.values,\n",
    "    labels={'x': 'Hour of Day', 'y': 'Number of Accidents'},\n",
    "    title='Accidents by Hour of Day',\n",
    "    text=hourly_counts.values\n",
    ")\n",
    "fig.update_layout(xaxis=dict(tickmode='linear'))\n",
    "st.plotly_chart(fig)"
   ]
  },
  {
   "cell_type": "code",
   "execution_count": null,
   "id": "c2055bee",
   "metadata": {},
   "outputs": [],
   "source": [
    "2. Are accidents more severe during rain or fog?"
   ]
  },
  {
   "cell_type": "code",
   "execution_count": null,
   "id": "c4c79b5c",
   "metadata": {},
   "outputs": [],
   "source": [
    "# Standardize weather column\n",
    "df['Weather_Condition'] = df['Weather_Condition'].str.lower()\n",
    "\n",
    "# Filter only rain or fog conditions\n",
    "weather_accidents = df[df['Weather_Condition'].str.contains('rain|fog', na=False)]\n",
    "severity_by_weather = weather_accidents.groupby('Weather_Condition')['Severity'].mean().sort_values(ascending=False)\n",
    "print(severity_by_weather)\n",
    "import plotly.express as px\n",
    "\n",
    "fig = px.bar(\n",
    "    severity_by_weather,\n",
    "    x=severity_by_weather.index,\n",
    "    y=severity_by_weather.values,\n",
    "    labels={'x': 'Weather Condition', 'y': 'Average Severity'},\n",
    "    title='Accident Severity during Rain vs Fog'\n",
    ")\n",
    "fig.show()"
   ]
  },
  {
   "cell_type": "code",
   "execution_count": null,
   "id": "58e23ebf",
   "metadata": {},
   "outputs": [],
   "source": [
    "3. Is there a correlation between visibility and severity?"
   ]
  },
  {
   "cell_type": "code",
   "execution_count": null,
   "id": "8d332e0d",
   "metadata": {},
   "outputs": [],
   "source": [
    "# Drop rows with missing or zero visibility\n",
    "df_clean = df.dropna(subset=['Visibility(mi)', 'Severity'])\n",
    "df_clean = df_clean[df_clean['Visibility(mi)'] > 0]\n",
    "correlation = df_clean['Visibility(mi)'].corr(df_clean['Severity'])\n",
    "print(f\"Correlation between visibility and severity: {correlation:.3f}\")\n",
    "import plotly.express as px\n",
    "\n",
    "fig = px.scatter(\n",
    "    df_clean,\n",
    "    x='Visibility(mi)',\n",
    "    y='Severity',\n",
    "    trendline='ols',  # shows linear trend\n",
    "    labels={'Visibility(mi)': 'Visibility (miles)', 'Severity': 'Accident Severity'},\n",
    "    title='Severity vs Visibility'\n",
    ")\n",
    "fig.show()"
   ]
  }
 ],
 "metadata": {
  "kernelspec": {
   "display_name": "Python 3 (ipykernel)",
   "language": "python",
   "name": "python3"
  },
  "language_info": {
   "codemirror_mode": {
    "name": "ipython",
    "version": 3
   },
   "file_extension": ".py",
   "mimetype": "text/x-python",
   "name": "python",
   "nbconvert_exporter": "python",
   "pygments_lexer": "ipython3",
   "version": "3.10.9"
  }
 },
 "nbformat": 4,
 "nbformat_minor": 5
}
